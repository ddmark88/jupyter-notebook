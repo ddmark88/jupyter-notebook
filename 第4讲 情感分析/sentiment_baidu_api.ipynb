{
 "cells": [
  {
   "cell_type": "code",
   "execution_count": 1,
   "metadata": {},
   "outputs": [],
   "source": [
    "from aip import AipNlp"
   ]
  },
  {
   "cell_type": "code",
   "execution_count": 2,
   "metadata": {},
   "outputs": [],
   "source": [
    "#你的 APPID AK SK \n",
    "#有了以下代码就可以引入百度SDK的情感分析工具包\n",
    "#而这一段账号是需要你向百度申请的"
   ]
  },
  {
   "cell_type": "code",
   "execution_count": 3,
   "metadata": {},
   "outputs": [],
   "source": [
    "APP_ID = '14495762'\n",
    "API_KEY = 'h0YfAc3yvfnhutqMG5VPG5n0'\n",
    "SECRET_KEY = 'LDNvDb40PrMQ6o8bNuNxQfrzGcdGGF4p'\n",
    "\n",
    "client = AipNlp(APP_ID, API_KEY, SECRET_KEY)"
   ]
  },
  {
   "cell_type": "code",
   "execution_count": 4,
   "metadata": {},
   "outputs": [],
   "source": [
    "text = \"苹果是一家伟大的公司\""
   ]
  },
  {
   "cell_type": "code",
   "execution_count": 5,
   "metadata": {},
   "outputs": [],
   "source": [
    "#调用情感倾向分析 \n",
    "result_senti = client.sentimentClassify(text);"
   ]
  },
  {
   "cell_type": "code",
   "execution_count": 6,
   "metadata": {},
   "outputs": [
    {
     "data": {
      "text/plain": [
       "{'items': [{'confidence': 0.395115,\n",
       "   'negative_prob': 0.272198,\n",
       "   'positive_prob': 0.727802,\n",
       "   'sentiment': 2}],\n",
       " 'log_id': 4062715369513092152,\n",
       " 'text': '苹果是一家伟大的公司'}"
      ]
     },
     "execution_count": 6,
     "metadata": {},
     "output_type": "execute_result"
    }
   ],
   "source": [
    "#展示结果\n",
    "result_senti"
   ]
  },
  {
   "cell_type": "code",
   "execution_count": null,
   "metadata": {},
   "outputs": [],
   "source": []
  }
 ],
 "metadata": {
  "kernelspec": {
   "display_name": "Python 3",
   "language": "python",
   "name": "python3"
  },
  "language_info": {
   "codemirror_mode": {
    "name": "ipython",
    "version": 3
   },
   "file_extension": ".py",
   "mimetype": "text/x-python",
   "name": "python",
   "nbconvert_exporter": "python",
   "pygments_lexer": "ipython3",
   "version": "3.6.5"
  }
 },
 "nbformat": 4,
 "nbformat_minor": 2
}
